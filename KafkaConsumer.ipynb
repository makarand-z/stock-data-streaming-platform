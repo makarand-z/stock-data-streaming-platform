{
 "cells": [
  {
   "cell_type": "code",
   "execution_count": null,
   "id": "354ef093-a9fe-4ed0-afc4-b3f2e11e9e96",
   "metadata": {},
   "outputs": [],
   "source": [
    "from kafka import KafkaConsumer\n",
    "from time import sleep\n",
    "import json\n",
    "from json import dumps, loads"
   ]
  },
  {
   "cell_type": "code",
   "execution_count": null,
   "id": "cdb244da-7272-4f76-84b4-595d17074641",
   "metadata": {},
   "outputs": [],
   "source": [
    "consumer = KafkaConsumer('test_topic1', bootstrap_servers=['YOUR_EC2_IP_ADDRESS'], api_version=(0,11,5), value_deserializer=lambda x: loads(x.decode('utf-8')))"
   ]
  },
  {
   "cell_type": "code",
   "execution_count": null,
   "id": "e59112fc-bcb7-4ed8-ab8d-34cc6cbcf015",
   "metadata": {},
   "outputs": [],
   "source": [
    "for c in consumer:\n",
    "    print(c.value)"
   ]
  }
 ],
 "metadata": {
  "kernelspec": {
   "display_name": "Python 3 (ipykernel)",
   "language": "python",
   "name": "python3"
  },
  "language_info": {
   "codemirror_mode": {
    "name": "ipython",
    "version": 3
   },
   "file_extension": ".py",
   "mimetype": "text/x-python",
   "name": "python",
   "nbconvert_exporter": "python",
   "pygments_lexer": "ipython3",
   "version": "3.12.4"
  }
 },
 "nbformat": 4,
 "nbformat_minor": 5
}
